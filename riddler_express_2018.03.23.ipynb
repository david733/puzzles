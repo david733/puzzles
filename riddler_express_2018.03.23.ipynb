{
 "cells": [
  {
   "cell_type": "code",
   "execution_count": 1,
   "metadata": {
    "collapsed": true
   },
   "outputs": [],
   "source": [
    "import itertools\n",
    "import json\n",
    "from collections import OrderedDict"
   ]
  },
  {
   "cell_type": "code",
   "execution_count": 2,
   "metadata": {
    "collapsed": false
   },
   "outputs": [],
   "source": [
    "teams = ('A', 'B', 'C', 'D')"
   ]
  },
  {
   "cell_type": "code",
   "execution_count": 3,
   "metadata": {
    "collapsed": false
   },
   "outputs": [
    {
     "data": {
      "text/plain": [
       "[('A', 'B'), ('A', 'C'), ('A', 'D'), ('B', 'C'), ('B', 'D'), ('C', 'D')]"
      ]
     },
     "execution_count": 3,
     "metadata": {},
     "output_type": "execute_result"
    }
   ],
   "source": [
    "matchups = list(itertools.combinations(teams, 2))\n",
    "matchups"
   ]
  },
  {
   "cell_type": "code",
   "execution_count": 4,
   "metadata": {
    "collapsed": false
   },
   "outputs": [],
   "source": [
    "outcomes = {\n",
    "    'win': (3, 0),\n",
    "    'loss': (0, 3),\n",
    "    'tie': (1, 1),\n",
    "}"
   ]
  },
  {
   "cell_type": "code",
   "execution_count": 6,
   "metadata": {
    "collapsed": false
   },
   "outputs": [
    {
     "data": {
      "text/plain": [
       "556"
      ]
     },
     "execution_count": 6,
     "metadata": {},
     "output_type": "execute_result"
    }
   ],
   "source": [
    "# simulate all outcomes to the six group stage matchups; there will be 3^6 or 729 possible outcomes\n",
    "tournament_outcomes = itertools.product(*([outcomes.keys(),] * len(matchups)))\n",
    "\n",
    "# we're gathering unique point total results\n",
    "standings = set()\n",
    "\n",
    "for tournament_outcome in tournament_outcomes:\n",
    "    # each team starts with 0 points\n",
    "    scores = OrderedDict(zip(teams, (0,)*4))\n",
    "    \n",
    "    # for each game, award points based on win, loss, or tie\n",
    "    for matchup, outcome_key in zip(matchups, tournament_outcome):\n",
    "        points_awarded = outcomes[outcome_key]\n",
    "        scores[matchup[0]] += points_awarded[0]\n",
    "        scores[matchup[1]] += points_awarded[1]\n",
    "    \n",
    "    # dict is not hashable, so we serialize the ordered dict to string\n",
    "    standings.add(json.dumps(scores))\n",
    "\n",
    "# final count of unique point total results\n",
    "len(standings)"
   ]
  }
 ],
 "metadata": {
  "anaconda-cloud": {},
  "kernelspec": {
   "display_name": "Python [default]",
   "language": "python",
   "name": "python3"
  },
  "language_info": {
   "codemirror_mode": {
    "name": "ipython",
    "version": 3
   },
   "file_extension": ".py",
   "mimetype": "text/x-python",
   "name": "python",
   "nbconvert_exporter": "python",
   "pygments_lexer": "ipython3",
   "version": "3.5.2"
  }
 },
 "nbformat": 4,
 "nbformat_minor": 1
}
